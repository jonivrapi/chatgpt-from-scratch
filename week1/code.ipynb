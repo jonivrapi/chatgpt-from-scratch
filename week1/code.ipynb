{
 "cells": [
  {
   "cell_type": "code",
   "execution_count": 1,
   "id": "b0a9d4a3",
   "metadata": {},
   "outputs": [],
   "source": [
    "import torch\n",
    "\n",
    "'''\n",
    "Complete this class by instantiating parameters called \"self.weight\" and \"self.bias\", and\n",
    "use them to complete the forward() method. You do not need to worry about backpropogation.\n",
    "'''\n",
    "class CustomLinear(torch.nn.Module):\n",
    "\n",
    "\tdef __init__(self, input_size, output_size):\n",
    "\t\tsuper().__init__()\n",
    "\t\tself.weight = torch.nn.Parameter(0.1*torch.randn(input_size, output_size))\n",
    "\t\tself.bias = torch.nn.Parameter(torch.randn(output_size))\n",
    "\n",
    "\tdef forward(self, x):\n",
    "\t\t'''\n",
    "\t\tx is a tensor contain a batch of vectors, size (B, input_size).\n",
    "\t\tThis should return a tensor of size (B, output_size).\n",
    "\t\t'''\n",
    "\t\treturn x @ self.weight + self.bias"
   ]
  },
  {
   "cell_type": "code",
   "execution_count": 2,
   "id": "62c923b8",
   "metadata": {},
   "outputs": [
    {
     "name": "stdout",
     "output_type": "stream",
     "text": [
      "torch.Size([4, 2])\n"
     ]
    }
   ],
   "source": [
    "layer = CustomLinear(input_size=3, output_size=2)\n",
    "x = torch.randn(4, 3)  # Batch of 4 vectors, each of size 3\n",
    "out = layer(x)\n",
    "print(out.shape)  # torch.Size([4, 2])"
   ]
  },
  {
   "cell_type": "code",
   "execution_count": null,
   "id": "05a2f25c",
   "metadata": {},
   "outputs": [],
   "source": []
  }
 ],
 "metadata": {
  "kernelspec": {
   "display_name": "deep-learning-transformers",
   "language": "python",
   "name": "python3"
  },
  "language_info": {
   "codemirror_mode": {
    "name": "ipython",
    "version": 3
   },
   "file_extension": ".py",
   "mimetype": "text/x-python",
   "name": "python",
   "nbconvert_exporter": "python",
   "pygments_lexer": "ipython3",
   "version": "3.12.9"
  }
 },
 "nbformat": 4,
 "nbformat_minor": 5
}
